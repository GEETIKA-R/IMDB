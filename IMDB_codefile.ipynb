{
 "cells": [
  {
   "cell_type": "code",
   "execution_count": null,
   "id": "0b9c8c0a",
   "metadata": {},
   "outputs": [],
   "source": [
    "import numpy as np\n",
    "import pandas as pd\n",
    "import matplotlib.pyplot as plt\n",
    "import matplotlib.lines as lines\n",
    "import matplotlib.gridspec as gridspec\n",
    "import seaborn as sns\n"
   ]
  },
  {
   "cell_type": "code",
   "execution_count": null,
   "id": "854a67ba",
   "metadata": {},
   "outputs": [],
   "source": [
    "ds = pd.read_csvds = pd.read_csv(\"NetflixOriginals.csv\",encoding = \"ISO-8859-1\")\n",
    "ds_date = ds.copy()\n",
    "ds.head()\n"
   ]
  },
  {
   "cell_type": "code",
   "execution_count": null,
   "id": "3e17232a",
   "metadata": {},
   "outputs": [],
   "source": [
    "ds.describe().T\n"
   ]
  },
  {
   "cell_type": "code",
   "execution_count": null,
   "id": "f8236b32",
   "metadata": {},
   "outputs": [],
   "source": [
    "ds.info(verbose=True,show_counts=True)\n"
   ]
  },
  {
   "cell_type": "code",
   "execution_count": null,
   "id": "124aca69",
   "metadata": {},
   "outputs": [],
   "source": [
    "ds.isna().sum()\n"
   ]
  },
  {
   "cell_type": "code",
   "execution_count": null,
   "id": "efea2e62",
   "metadata": {},
   "outputs": [],
   "source": [
    "ds['Title'].value_counts()\n"
   ]
  },
  {
   "cell_type": "code",
   "execution_count": null,
   "id": "1cddd0ca",
   "metadata": {},
   "outputs": [],
   "source": [
    "ds['Genre'].value_counts()\n"
   ]
  },
  {
   "cell_type": "code",
   "execution_count": null,
   "id": "c4a8f0d7",
   "metadata": {},
   "outputs": [],
   "source": [
    "ds['Premiere'].value_counts()\n"
   ]
  },
  {
   "cell_type": "code",
   "execution_count": null,
   "id": "97875f70",
   "metadata": {},
   "outputs": [],
   "source": [
    "from datetime import datetime\n",
    "\n",
    "ds_date[\"Premiere\"] = ds_date[\"Premiere\"].apply(lambda x: \"\".join(x for x in x.replace(\".\",\",\")))\n",
    "ds_date[\"PremiereDate\"] = ds_date[\"Premiere\"].apply(lambda x: datetime.strptime(x, \"%B %d, %Y\").date())\n",
    "ds_date[\"Year\"] = ds_date[\"Premiere\"].apply(lambda x: \"\".join(x for x in x.replace(\",\",\"\").split()[-1]))\n",
    "\n",
    "#Convert object to date\n",
    "ds_date[\"PremiereDate\"] = pd.to_datetime(ds_date[\"PremiereDate\"]) \n",
    "ds_date"
   ]
  },
  {
   "cell_type": "code",
   "execution_count": null,
   "id": "1a942e35",
   "metadata": {},
   "outputs": [],
   "source": [
    "ds_date.info()\n"
   ]
  },
  {
   "cell_type": "code",
   "execution_count": null,
   "id": "bc2dfc6b",
   "metadata": {},
   "outputs": [],
   "source": [
    "ds['Language'].value_counts()\n"
   ]
  },
  {
   "cell_type": "code",
   "execution_count": null,
   "id": "30466048",
   "metadata": {},
   "outputs": [],
   "source": [
    "ds['Genre'].value_counts()\n",
    "genre = ds['Genre'].value_counts()\n",
    "genre.head()\n"
   ]
  },
  {
   "cell_type": "code",
   "execution_count": null,
   "id": "f403e398",
   "metadata": {},
   "outputs": [],
   "source": [
    "ds['Language'].value_counts()\n"
   ]
  },
  {
   "cell_type": "code",
   "execution_count": null,
   "id": "cb626951",
   "metadata": {},
   "outputs": [],
   "source": [
    "ds_english = ds[ds['Language'] == 'English'].sort_values('IMDB Score', ascending=False)\n",
    "ds_english.head()\n"
   ]
  },
  {
   "cell_type": "code",
   "execution_count": null,
   "id": "a4a8f6b9",
   "metadata": {},
   "outputs": [],
   "source": [
    "\n",
    "\n",
    "from sklearn.model_selection import train_test_split\n",
    "\n",
    "# Specify your features (X) and target variable (y)\n",
    "# Replace 'X' and 'y' with your actual data\n",
    "\n",
    "X = ds_date[['Title','Genre','Premiere','Runtime','Language']]  # Replace with your features\n",
    "y = ds_date['IMDB Score']  # Replace with your target variable\n",
    "\n",
    "\n",
    "# Split the data into training and testing sets (e.g., 80% train, 20% test)\n",
    "X_train, X_test, y_train, y_test = train_test_split(X, y, test_size=0.2, random_state=42)\n",
    "print('X_train',X_train)\n",
    "print('X_test',X_train)\n",
    "print('y_train',X_train)\n",
    "print('y_train',X_train)\n",
    "\n"
   ]
  },
  {
   "cell_type": "code",
   "execution_count": null,
   "id": "fd6d99f8",
   "metadata": {},
   "outputs": [],
   "source": [
    "from sklearn.preprocessing import StandardScaler\n",
    "\n",
    "# Select only the numeric features (excluding 'Title')\n",
    "numeric_features = X_train.select_dtypes(include=[np.number])\n",
    "\n",
    "# Create a StandardScaler instance\n",
    "scaler = StandardScaler()\n",
    "\n",
    "# Fit the scaler on the training data and transform both training and testing data\n",
    "X_train_scaled = scaler.fit_transform(numeric_features)\n",
    "X_test_scaled = scaler.transform(X_test[numeric_features.columns])\n",
    "\n"
   ]
  },
  {
   "cell_type": "code",
   "execution_count": null,
   "id": "9514d967",
   "metadata": {},
   "outputs": [],
   "source": [
    "from sklearn.preprocessing import LabelEncoder, OneHotEncoder, StandardScaler\n",
    "from sklearn.compose import ColumnTransformer\n",
    "\n",
    "categorical_cols = ['Genre', 'Language']\n",
    "# Create a ColumnTransformer to apply one-hot encoding\n",
    "preprocessor = ColumnTransformer(\n",
    "    transformers=[\n",
    "        ('cat', OneHotEncoder(), categorical_cols),\n",
    "    ],\n",
    "    remainder='passthrough'  # Include other columns as-is\n",
    ")\n",
    "\n",
    "\n",
    "# Fit and transform the training data\n",
    "X_train = preprocessor.fit_transform(X_train)\n",
    "# Transform the test data using the same preprocessor\n",
    "X_test = preprocessor.transform(X_test)\n",
    "\n",
    "# Define the target variable\n",
    "y = ds_date['IMDB Score']\n",
    "# Split the data into training and testing\n",
    "X_train, X_test, y_train, y_test = train_test_split(X, y, test_size=0.2, random_state=42)\n",
    "# Create a Random Forest Regressor model\n",
    "model = RandomForestRegressor(n_estimators=100, random_state=42)\n",
    "# Train the model on the training data\n",
    "model.fit(X_train, y_train)\n",
    "# Make predictions on the test data\n",
    "y_pred = model.predict(X_test)\n",
    "# Evaluate the model\n",
    "mae = mean_absolute_error(y_test, y_pred)\n",
    "mse = mean_squared_error(y_test, y_pred)\n",
    "r2 = r2_score(y_test, y_pred)\n",
    "print(f\"Mean Absolute Error (MAE): {mae}\")\n",
    "print(f\"Mean Squared Error (MSE): {mse}\")\n",
    "print(f\"R-squared (R^2): {r2}\")\n"
   ]
  },
  {
   "cell_type": "code",
   "execution_count": null,
   "id": "d7ae0b4c",
   "metadata": {},
   "outputs": [],
   "source": []
  }
 ],
 "metadata": {
  "kernelspec": {
   "display_name": "Python 3 (ipykernel)",
   "language": "python",
   "name": "python3"
  },
  "language_info": {
   "codemirror_mode": {
    "name": "ipython",
    "version": 3
   },
   "file_extension": ".py",
   "mimetype": "text/x-python",
   "name": "python",
   "nbconvert_exporter": "python",
   "pygments_lexer": "ipython3",
   "version": "3.7.7"
  }
 },
 "nbformat": 4,
 "nbformat_minor": 5
}
